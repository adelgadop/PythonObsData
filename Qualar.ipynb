{
  "nbformat": 4,
  "nbformat_minor": 0,
  "metadata": {
    "colab": {
      "provenance": [],
      "authorship_tag": "ABX9TyMMIqY+aeyi0/855awvaTpz",
      "include_colab_link": true
    },
    "kernelspec": {
      "name": "python3",
      "display_name": "Python 3"
    },
    "language_info": {
      "name": "python"
    }
  },
  "cells": [
    {
      "cell_type": "markdown",
      "metadata": {
        "id": "view-in-github",
        "colab_type": "text"
      },
      "source": [
        "<a href=\"https://colab.research.google.com/github/adelgadop/PythonObsData/blob/master/Qualar.ipynb\" target=\"_parent\"><img src=\"https://colab.research.google.com/assets/colab-badge.svg\" alt=\"Open In Colab\"/></a>"
      ]
    },
    {
      "cell_type": "code",
      "execution_count": null,
      "metadata": {
        "id": "_xAHfXsRkCbF"
      },
      "outputs": [],
      "source": [
        "# Downloading meteorological and air quality parameters from CETESB stations\n",
        "import numpy as np\n",
        "import pandas as pd\n",
        "import qualar as qr\n",
        "import sys, os\n",
        "import requests\n",
        "import pickle as pkl\n",
        "\n",
        "#%%\n",
        "cetesb_stations = pd.read_csv('../namelists/stations.csv')\n",
        "                              #encoding = \"ISO-8859-1\")\n",
        "\n",
        "print(cetesb_stations)\n",
        "start = int(input('start station (number): '))\n",
        "cetesb_stations = cetesb_stations.iloc[start:,:].head(15)\n",
        "print(cetesb_stations)\n",
        "\n",
        "fecha = input('date (YYYY-MM-DD):')\n",
        "\n",
        "obs_dates = pd.DataFrame({'date': pd.date_range(fecha, \n",
        "            periods=int(input('days:'))*24, freq='H')})\n",
        "obs_dates['date_qualar']=obs_dates['date'].dt.strftime('%d/%m/%Y')\n",
        "\n",
        "cetesb_login = input('login: ')  \n",
        "\n",
        "if len(sys.argv) < 2 and not 'RDAPSWD' in os.environ:\n",
        "    try:\n",
        "        import getpass\n",
        "        input = getpass.getpass\n",
        "    except:\n",
        "        try:\n",
        "            input = raw_input\n",
        "        except:\n",
        "            pass\n",
        "\n",
        "    cetesb_password = input('Password: ')\n",
        "else:\n",
        "    try:\n",
        "       cetesb_password = sys.argv[1]\n",
        "    except:\n",
        "        cetesb_password = os.environ['RDAPSWD']\n",
        "\n",
        "start_date = obs_dates.date_qualar.values[0]\n",
        "end_date = obs_dates.date_qualar.values[-1]\n",
        "\n",
        "print(obs_dates)\n",
        "ruta ='../data/jul19/' # input('Insert path to save: ')\n",
        "\n",
        "for c,n in zip(cetesb_stations.code,cetesb_stations.name):\n",
        "    print('Downloading poll ' + n + ' Station')\n",
        "    qr.all_photo(cetesb_login, cetesb_password, start_date, end_date, c, csv_photo=False, path=ruta)\n",
        "    print('Downloading meteo ' + n + ' Station')\n",
        "    qr.all_met(cetesb_login, cetesb_password,  start_date, end_date, c, csv_met=False, path=ruta)\n",
        "\n",
        "print(\"\"\"\n",
        "Successfully\n",
        "\"\"\")"
      ]
    }
  ]
}